{
 "cells": [
  {
   "cell_type": "code",
   "execution_count": 180,
   "id": "bef6162b",
   "metadata": {},
   "outputs": [],
   "source": [
    "# 필요한 라이브러리 임포트\n",
    "import pandas as pd\n",
    "import numpy as np\n",
    "import matplotlib.pyplot as plt\n",
    "import seaborn as sns\n",
    "import matplotlib\n",
    "from matplotlib import font_manager, rc\n",
    "\n",
    "# 한글 폰트 설정 (Windows: 'Malgun Gothic')\n",
    "font_path = \"C:/Windows/Fonts/malgun.ttf\"  # Windows 기본 한글 폰트\n",
    "font_name = font_manager.FontProperties(fname=font_path).get_name()\n",
    "matplotlib.rc('font', family=font_name)\n",
    "\n",
    "# 마이너스 깨지는 것 방지\n",
    "matplotlib.rcParams['axes.unicode_minus'] = False\n",
    "\n",
    "from sklearn.model_selection import train_test_split\n",
    "from sklearn.ensemble import RandomForestClassifier, VotingClassifier\n",
    "from xgboost import XGBClassifier\n",
    "from sklearn.metrics import accuracy_score, confusion_matrix, classification_report"
   ]
  },
  {
   "cell_type": "code",
   "execution_count": 181,
   "id": "ae0bb331",
   "metadata": {},
   "outputs": [
    {
     "name": "stdout",
     "output_type": "stream",
     "text": [
      "                 연월일시  가압장유출유량적산차  배수지유입유량적산차\n",
      "0    2024/12/14 01:00           0           0\n",
      "1    2024/12/14 02:00           0           0\n",
      "2    2024/12/14 03:00           0           0\n",
      "3    2024/12/14 04:00           0           0\n",
      "4    2024/12/14 05:00           0           0\n",
      "..                ...         ...         ...\n",
      "427  2024/12/31 20:00           0          71\n",
      "428  2024/12/31 21:00         275         354\n",
      "429  2024/12/31 22:00         332         420\n",
      "430  2024/12/31 23:00           0          74\n",
      "431  2024/12/31 24:00           0          13\n",
      "\n",
      "[432 rows x 3 columns]\n"
     ]
    }
   ],
   "source": [
    "# 1. 데이터 불러오기\n",
    "file_path = r'C:\\Python\\Water_Flow_Rate.xlsx'\n",
    "\n",
    "# 엑셀 파일 읽기 (openpyxl 엔진 사용)\n",
    "df = pd.read_excel(file_path, engine='openpyxl')\n",
    "\n",
    "# 데이터 확인\n",
    "print(df)"
   ]
  },
  {
   "cell_type": "code",
   "execution_count": 200,
   "id": "332e1a59",
   "metadata": {},
   "outputs": [
    {
     "name": "stdout",
     "output_type": "stream",
     "text": [
      "                   날짜  가압장_적산차  배수지_적산차  적산차  적산차_이상     유수율  유수율계산오류  이상상태\n",
      "0    2024/12/14 01:00        0        0    0     NaN     NaN        0     0\n",
      "1    2024/12/14 02:00        0        0    0     NaN     NaN        0     0\n",
      "2    2024/12/14 03:00        0        0    0     NaN     NaN        0     0\n",
      "3    2024/12/14 04:00        0        0    0     NaN     NaN        0     0\n",
      "4    2024/12/14 05:00        0        0    0     NaN     NaN        0     0\n",
      "..                ...      ...      ...  ...     ...     ...      ...   ...\n",
      "427  2024/12/31 20:00        0        0   71    71.0     NaN        1     1\n",
      "428  2024/12/31 21:00      275      354   79     NaN  128.7%        0     0\n",
      "429  2024/12/31 22:00      332      420   88     NaN  126.5%        0     0\n",
      "430  2024/12/31 23:00        0        0   74    74.0     NaN        1     1\n",
      "431  2024/12/31 24:00        0        0   13    13.0     NaN        1     1\n",
      "\n",
      "[432 rows x 8 columns]\n"
     ]
    }
   ],
   "source": [
    "# 2. 데이터 전처리\n",
    "# 실제 컬럼명 사용: '연월일시', '가압장유출유량적산차(㎥)', '배수지유입유량적산차(㎥)'\n",
    "\n",
    "# 엑셀파일 컬럼 설정\n",
    "df['날짜'] = df['연월일시']\n",
    "df['가압장_적산차'] = df['가압장유출유량적산차']\n",
    "df['배수지_적산차'] = df['배수지유입유량적산차']\n",
    "\n",
    "# 배수지유입유량-가압장유출유량 계산 (배수지 적산차 - 가압장 적산차)\n",
    "df['적산차'] = df['배수지_적산차'] - df['가압장_적산차']\n",
    "\n",
    "# 이상상태 라벨링 (가압하지 않는 시간대에 배수지 유량이 찍히는 경우, 적산차 계산)\n",
    "condition = (df['가압장_적산차'] == 0) & (df['배수지_적산차'] > 0)\n",
    "df['이상상태'] = np.where(condition, 1, 0)\n",
    "df['적산차_이상'] = np.where(df['이상상태'] == 1, df['적산차'], np.nan)\n",
    "\n",
    "# 유수율 계산 (이상상태일때 필터링)\n",
    "df['유수율'] = np.where((df['이상상태'] == 0), \n",
    "                        (df['배수지_적산차'] / df['가압장_적산차']) * 100, \n",
    "                        np.nan)  # 가압장_적산차와 배수지_적산차 모두 0일 경우 NaN 처리\n",
    "\n",
    "# 유수율 계산 오류 처리 (가압장_적산차가 0, 배수지_적산차가 0이 아닐때 오류로 처리) = 앞의 이상상태 변수와 동일\n",
    "df['유수율계산오류'] = np.where((df['가압장_적산차'] == 0) & (df['배수지_적산차'] != 0), 1, 0)\n",
    "\n",
    "# 결측치 처리: 양옆의 값으로 결측치 채우기\n",
    "df['가압장_적산차'] = df['가압장_적산차'].ffill().bfill()\n",
    "df['배수지_적산차'] = df['배수지_적산차'].ffill().bfill()\n",
    "\n",
    "# 이상치 처리: 이상상태일 경우 배수지_적산차를 가압장_적산차와 동일하게 맞추기\n",
    "df.loc[df['이상상태'] == 1, '배수지_적산차'] = df['가압장_적산차']\n",
    "\n",
    "# 유수율 데이터의 출력 포맷을 %로 지정 (소수점 1자리로 제한)\n",
    "df['유수율'] = df['유수율'].apply(lambda x: f\"{x:.1f}%\" if pd.notna(x) else x)\n",
    "\n",
    "# 전처리 결과 확인\n",
    "print(df[['날짜', '가압장_적산차', '배수지_적산차', '적산차', '적산차_이상', '유수율', '유수율계산오류', '이상상태']])"
   ]
  },
  {
   "cell_type": "code",
   "execution_count": 203,
   "id": "eb3bcd5b",
   "metadata": {},
   "outputs": [
    {
     "name": "stdout",
     "output_type": "stream",
     "text": [
      "                   날짜    유수율\n",
      "0    2024/12/14 01:00    NaN\n",
      "1    2024/12/14 02:00    NaN\n",
      "2    2024/12/14 03:00    NaN\n",
      "3    2024/12/14 04:00    NaN\n",
      "4    2024/12/14 05:00    NaN\n",
      "..                ...    ...\n",
      "427  2024/12/31 20:00    NaN\n",
      "428  2024/12/31 21:00  128.7\n",
      "429  2024/12/31 22:00  126.5\n",
      "430  2024/12/31 23:00    NaN\n",
      "431  2024/12/31 24:00    NaN\n",
      "\n",
      "[432 rows x 2 columns]\n"
     ]
    }
   ],
   "source": [
    "# 2.1 모델학습을 위해 유수율에서 '%' 기호를 제거하고 실수(float)로 변환\n",
    "df['유수율'] = df['유수율'].astype(str).str.replace('%', '').astype(float)\n",
    "\n",
    "# 결과 확인\n",
    "print(df[['날짜', '유수율']])"
   ]
  },
  {
   "cell_type": "code",
   "execution_count": 211,
   "id": "9fdd12c3",
   "metadata": {},
   "outputs": [],
   "source": [
    "# 3. 학습용 데이터셋 준비\n",
    "X = df[['가압장_적산차', '배수지_적산차', '적산차', '적산차_이상', '유수율']]\n",
    "y = df['이상상태']\n",
    "\n",
    "# 학습 데이터와 테스트 데이터 분리 (8:2 비율)\n",
    "X_train, X_test, y_train, y_test = train_test_split(X, y, test_size=0.2, random_state=432)\n"
   ]
  },
  {
   "cell_type": "code",
   "execution_count": 212,
   "id": "2257d31b",
   "metadata": {},
   "outputs": [
    {
     "name": "stdout",
     "output_type": "stream",
     "text": [
      "\n",
      "===== RandomForest 결과 =====\n",
      "Accuracy: 1.0\n",
      "Confusion Matrix:\n",
      " [[29  0]\n",
      " [ 0 58]]\n",
      "Classification Report:\n",
      "               precision    recall  f1-score   support\n",
      "\n",
      "           0       1.00      1.00      1.00        29\n",
      "           1       1.00      1.00      1.00        58\n",
      "\n",
      "    accuracy                           1.00        87\n",
      "   macro avg       1.00      1.00      1.00        87\n",
      "weighted avg       1.00      1.00      1.00        87\n",
      "\n"
     ]
    }
   ],
   "source": [
    "# 4. RandomForest 모델 학습\n",
    "rf_model = RandomForestClassifier(n_estimators=100, random_state=432)\n",
    "rf_model.fit(X_train, y_train)\n",
    "\n",
    "# RandomForest 예측\n",
    "rf_preds = rf_model.predict(X_test)\n",
    "\n",
    "# RandomForest 결과 출력\n",
    "print(\"\\n===== RandomForest 결과 =====\")\n",
    "print(\"Accuracy:\", accuracy_score(y_test, rf_preds))\n",
    "print(\"Confusion Matrix:\\n\", confusion_matrix(y_test, rf_preds))\n",
    "print(\"Classification Report:\\n\", classification_report(y_test, rf_preds))"
   ]
  },
  {
   "cell_type": "code",
   "execution_count": null,
   "id": "d003f200",
   "metadata": {},
   "outputs": [
    {
     "data": {
      "image/png": "[encoded data removed]",
      "text/plain": [
       "<Figure size 800x400 with 1 Axes>"
      ]
     },
     "metadata": {},
     "output_type": "display_data"
    }
   ],
   "source": [
    "# 5. Feature Importance 시각화 (RandomForest 기준)\n",
    "importances = rf_model.feature_importances_\n",
    "feature_names = X.columns\n",
    "\n",
    "plt.figure(figsize=(8, 4))\n",
    "sns.barplot(x=importances, y=feature_names)\n",
    "plt.title('RandomForest Feature Importance')\n",
    "plt.xlabel('Importance')\n",
    "plt.ylabel('Feature')\n",
    "plt.tight_layout()\n",
    "plt.show()\n",
    "\n",
    "#분석결과\n",
    "#1. 가압장_적산차, 배수지_적산차, 유수율은 중요도가 낮으며,\n",
    "#2. 적산차가 발생하는 시점 중 적산차_이상이 발생했을 떄 이상상태에 도달한 것으로 판단할 수 있음.\n"
   ]
  },
  {
   "cell_type": "code",
   "execution_count": 214,
   "id": "f426ff38",
   "metadata": {},
   "outputs": [
    {
     "name": "stdout",
     "output_type": "stream",
     "text": [
      "\n",
      "===== XGBoost 결과 =====\n",
      "Accuracy: 1.0\n",
      "Confusion Matrix:\n",
      " [[29  0]\n",
      " [ 0 58]]\n",
      "Classification Report:\n",
      "               precision    recall  f1-score   support\n",
      "\n",
      "           0       1.00      1.00      1.00        29\n",
      "           1       1.00      1.00      1.00        58\n",
      "\n",
      "    accuracy                           1.00        87\n",
      "   macro avg       1.00      1.00      1.00        87\n",
      "weighted avg       1.00      1.00      1.00        87\n",
      "\n"
     ]
    }
   ],
   "source": [
    "# 6. XGBoost 모델 학습\n",
    "xgb_model = XGBClassifier(eval_metric='logloss')\n",
    "xgb_model.fit(X_train, y_train)\n",
    "\n",
    "# XGBoost 예측\n",
    "xgb_preds = xgb_model.predict(X_test)\n",
    "\n",
    "# XGBoost 결과 출력\n",
    "print(\"\\n===== XGBoost 결과 =====\")\n",
    "print(\"Accuracy:\", accuracy_score(y_test, xgb_preds))\n",
    "print(\"Confusion Matrix:\\n\", confusion_matrix(y_test, xgb_preds))\n",
    "print(\"Classification Report:\\n\", classification_report(y_test, xgb_preds))"
   ]
  },
  {
   "cell_type": "code",
   "execution_count": null,
   "id": "0b152559",
   "metadata": {},
   "outputs": [
    {
     "data": {
      "image/png": "[encoded data removed]",
      "text/plain": [
       "<Figure size 800x400 with 1 Axes>"
      ]
     },
     "metadata": {},
     "output_type": "display_data"
    }
   ],
   "source": [
    "# 7. Feature Importance 시각화 (XGBoost 기준)\n",
    "xgb_importances = xgb_model.feature_importances_\n",
    "\n",
    "plt.figure(figsize=(8, 4))\n",
    "sns.barplot(x=xgb_importances, y=feature_names)\n",
    "plt.title('XGBoost Feature Importance')\n",
    "plt.xlabel('Importance')\n",
    "plt.ylabel('Feature')\n",
    "plt.tight_layout()\n",
    "plt.show()\n",
    "\n",
    "#분석결과\n",
    "# 적산차_이상이 발생할 때, 100% 이상상태임을 알 수 있음"
   ]
  },
  {
   "cell_type": "code",
   "execution_count": 127,
   "id": "a5e09752",
   "metadata": {},
   "outputs": [
    {
     "name": "stdout",
     "output_type": "stream",
     "text": [
      "\n",
      "===== 앙상블(VotingClassifier) 결과 =====\n",
      "Accuracy: 1.0\n",
      "Confusion Matrix:\n",
      " [[29  0]\n",
      " [ 0 58]]\n",
      "Classification Report:\n",
      "               precision    recall  f1-score   support\n",
      "\n",
      "           0       1.00      1.00      1.00        29\n",
      "           1       1.00      1.00      1.00        58\n",
      "\n",
      "    accuracy                           1.00        87\n",
      "   macro avg       1.00      1.00      1.00        87\n",
      "weighted avg       1.00      1.00      1.00        87\n",
      "\n"
     ]
    }
   ],
   "source": [
    "# 8. RandomForest + XGBoost 앙상블 (Voting)\n",
    "ensemble_model = VotingClassifier(\n",
    "    estimators=[('RandomForest', rf_model), ('XGBoost', xgb_model)],\n",
    "    voting='soft'\n",
    ")\n",
    "\n",
    "# 앙상블 모델 학습\n",
    "ensemble_model.fit(X_train, y_train)\n",
    "\n",
    "# 앙상블 모델 예측\n",
    "ensemble_preds = ensemble_model.predict(X_test)\n",
    "\n",
    "# 앙상블 결과 출력\n",
    "print(\"\\n===== 앙상블(VotingClassifier) 결과 =====\")\n",
    "print(\"Accuracy:\", accuracy_score(y_test, ensemble_preds))\n",
    "print(\"Confusion Matrix:\\n\", confusion_matrix(y_test, ensemble_preds))\n",
    "print(\"Classification Report:\\n\", classification_report(y_test, ensemble_preds))"
   ]
  },
  {
   "cell_type": "code",
   "execution_count": 220,
   "id": "d89ca866",
   "metadata": {},
   "outputs": [
    {
     "data": {
      "image/png": "[encoded data removed]",
      "text/plain": [
       "<Figure size 800x400 with 1 Axes>"
      ]
     },
     "metadata": {},
     "output_type": "display_data"
    }
   ],
   "source": [
    "# 9. 앙상블 Feature Importance 시각화 (Voting)\n",
    "# 앙상블 모델은 평균적인 중요도를 보기 때문에 개별 모델들의 feature importance를 평균화하여 시각화\n",
    "rf_importances = rf_model.feature_importances_\n",
    "xgb_importances = xgb_model.feature_importances_\n",
    "\n",
    "# 평균 중요도 계산\n",
    "average_importances = (rf_importances + xgb_importances) / 2\n",
    "\n",
    "plt.figure(figsize=(8, 4))\n",
    "sns.barplot(x=average_importances, y=feature_names)\n",
    "plt.title('앙상블 Feature Importance (RandomForest + XGBoost 평균)')\n",
    "plt.xlabel('Importance')\n",
    "plt.ylabel('Feature')\n",
    "plt.tight_layout()\n",
    "plt.show()\n",
    "\n",
    "#분석결과\n",
    "# 두기법을 합하여 분석한 것으로, xgboost의 정확도가 높다고 판단"
   ]
  }
 ],
 "metadata": {
  "kernelspec": {
   "display_name": "base",
   "language": "python",
   "name": "python3"
  },
  "language_info": {
   "codemirror_mode": {
    "name": "ipython",
    "version": 3
   },
   "file_extension": ".py",
   "mimetype": "text/x-python",
   "name": "python",
   "nbconvert_exporter": "python",
   "pygments_lexer": "ipython3",
   "version": "3.12.9"
  }
 },
 "nbformat": 4,
 "nbformat_minor": 5
}
